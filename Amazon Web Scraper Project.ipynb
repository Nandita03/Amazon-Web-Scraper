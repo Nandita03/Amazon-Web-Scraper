{
 "cells": [
  {
   "cell_type": "code",
   "execution_count": 31,
   "id": "00b87b8a",
   "metadata": {},
   "outputs": [],
   "source": [
    "# import libraries\n",
    "\n",
    "from bs4 import BeautifulSoup\n",
    "import requests\n",
    "import time\n",
    "import datetime\n",
    "import smtplib\n"
   ]
  },
  {
   "cell_type": "code",
   "execution_count": 32,
   "id": "71f9a51f",
   "metadata": {},
   "outputs": [
    {
     "name": "stdout",
     "output_type": "stream",
     "text": [
      "\n",
      "              I Got Your Back Stick Figure Graphic Friendship Novelty Sarcastic Funny T Shirt\n",
      "             \n",
      "$17.99\n",
      "              \n",
      "\n",
      "\n",
      "                $\n",
      "               \n",
      "\n",
      "                17\n",
      "                \n",
      "                 .\n",
      "                \n",
      "\n",
      "\n",
      "                99\n"
     ]
    }
   ],
   "source": [
    "# Connect to website\n",
    "\n",
    "URL = 'https://www.amazon.com/dp/B076FSSXFJ/ref=sspa_dk_detail_2?pd_rd_i=B076FSSXFJ&pd_rd_w=qHgjt&content-id=amzn1.sym.eb7c1ac5-7c51-4df5-ba34-ca810f1f119a&pf_rd_p=eb7c1ac5-7c51-4df5-ba34-ca810f1f119a&pf_rd_r=SPVAENV5MSXQ117BNYFK&pd_rd_wg=Cmuxu&pd_rd_r=9190bb4a-b09d-4e7a-b6e0-3f81e2d2eea9&s=apparel&sp_csd=d2lkZ2V0TmFtZT1zcF9kZXRhaWw&spLa=ZW5jcnlwdGVkUXVhbGlmaWVyPUExMVQ5U1E1VjdRNTQzJmVuY3J5cHRlZElkPUEwNDk4NjE2M0NFN1pCQlo1TVUwUiZlbmNyeXB0ZWRBZElkPUEwMDM5MzIzMkRZR0NDUklWV0VRNCZ3aWRnZXROYW1lPXNwX2RldGFpbCZhY3Rpb249Y2xpY2tSZWRpcmVjdCZkb05vdExvZ0NsaWNrPXRydWU&th=1&psc=1'\n",
    "headers = {\"User-Agent\": \"Mozilla/5.0 (Windows NT 10.0; Win64; x64) AppleWebKit/537.36 (KHTML, like Gecko) Chrome/111.0.0.0 Safari/537.36\" }\n",
    "\n",
    "page = requests.get(URL, headers=headers,cookies={'__hs_opt_out': 'no'})\n",
    "\n",
    "soup1 = BeautifulSoup(page.content, \"html.parser\")\n",
    "\n",
    "soup2 = BeautifulSoup(soup1.prettify(), \"html.parser\")\n",
    "\n",
    "title = soup2.find(id=\"productTitle\").get_text()\n",
    "\n",
    "price = soup2.find('span', {'class':\"a-price aok-align-center reinventPricePriceToPayMargin priceToPay\"}).text.strip()\n",
    "\n",
    "print(title)\n",
    "print(price)\n",
    "\n"
   ]
  },
  {
   "cell_type": "code",
   "execution_count": 33,
   "id": "4ef6c3db",
   "metadata": {},
   "outputs": [
    {
     "name": "stdout",
     "output_type": "stream",
     "text": [
      "I Got Your Back Stick Figure Graphic Friendship Novelty Sarcastic Funny T Shirt\n",
      "17.99\n"
     ]
    }
   ],
   "source": [
    "#Clean up the data\n",
    "\n",
    "price = price.strip()[1:6]\n",
    "title = title.strip()\n",
    "\n",
    "price = float(price)\n",
    "print(title)\n",
    "print(price)"
   ]
  },
  {
   "cell_type": "code",
   "execution_count": 34,
   "id": "528c7d77",
   "metadata": {},
   "outputs": [
    {
     "name": "stdout",
     "output_type": "stream",
     "text": [
      "2023-04-24\n"
     ]
    }
   ],
   "source": [
    "# Creating a Timestamp for output to track when data was collected\n",
    "\n",
    "import datetime\n",
    "\n",
    "today = datetime.date.today()\n",
    "\n",
    "print(today)"
   ]
  },
  {
   "cell_type": "code",
   "execution_count": 35,
   "id": "edd90a98",
   "metadata": {},
   "outputs": [],
   "source": [
    "# Creating CSV and write headers and data into the file\n",
    "\n",
    "import csv\n",
    "\n",
    "header = ['Title','Price','Date']\n",
    "\n",
    "data = [title,price,today]\n",
    "\n",
    "with open('AmazonWebScraperDataset.csv', 'w', newline='', encoding='UTF8') as f:\n",
    "    writer = csv.writer(f)\n",
    "    writer.writerow(header)\n",
    "    writer.writerow(data)\n",
    "    "
   ]
  },
  {
   "cell_type": "code",
   "execution_count": 36,
   "id": "9df7d808",
   "metadata": {},
   "outputs": [
    {
     "name": "stdout",
     "output_type": "stream",
     "text": [
      "                                               Title  Price        Date\n",
      "0  I Got Your Back Stick Figure Graphic Friendshi...  17.99  2023-04-24\n"
     ]
    }
   ],
   "source": [
    "import pandas as pd\n",
    "\n",
    "df = pd.read_csv(r'C:\\Users\\nandi\\AmazonWebScraperDataset.csv')\n",
    "\n",
    "print(df)"
   ]
  },
  {
   "cell_type": "code",
   "execution_count": 37,
   "id": "a8db13da",
   "metadata": {},
   "outputs": [],
   "source": [
    "#Appending the data to the csv\n",
    "\n",
    "with open('AmazonWebScraperDataset.csv', 'a+', newline='', encoding='UTF8') as f:\n",
    "    writer = csv.writer(f)\n",
    "    writer.writerow(data)\n"
   ]
  },
  {
   "cell_type": "code",
   "execution_count": 38,
   "id": "2c5d3a05",
   "metadata": {},
   "outputs": [],
   "source": [
    "#Combine all of the above code into one function\n",
    "\n",
    "def check_price():\n",
    "    page = requests.get(URL, headers=headers,cookies={'__hs_opt_out': 'no'})\n",
    "\n",
    "    soup1 = BeautifulSoup(page.content, \"html.parser\")\n",
    "\n",
    "    soup2 = BeautifulSoup(soup1.prettify(), \"html.parser\")\n",
    "\n",
    "    title = soup2.find(id=\"productTitle\").get_text()\n",
    "\n",
    "    price = soup2.find('span', {'class':\"a-price aok-align-center reinventPricePriceToPayMargin priceToPay\"}).text.strip()\n",
    "\n",
    "    price = price.strip()[1:6]\n",
    "    title = title.strip()\n",
    "\n",
    "    import datetime\n",
    "\n",
    "    today = datetime.date.today()\n",
    "\n",
    "    import csv\n",
    "\n",
    "    header = ['Title','Price','Date']\n",
    "    data = [title,price,today]\n",
    "    \n",
    "    with open('AmazonWebScraperDataset.csv', 'a+', newline='', encoding='UTF8') as f:\n",
    "        writer = csv.writer(f)\n",
    "        writer.writerow(data)\n",
    "\n",
    "  "
   ]
  },
  {
   "cell_type": "code",
   "execution_count": null,
   "id": "9817dacc",
   "metadata": {},
   "outputs": [],
   "source": [
    "# Runs check_price after a set time and inputs data into the CSV\n",
    "\n",
    "while(True):\n",
    "    check_price()\n",
    "    time.sleep(86400)"
   ]
  },
  {
   "cell_type": "code",
   "execution_count": 39,
   "id": "c910b3d1",
   "metadata": {},
   "outputs": [
    {
     "name": "stdout",
     "output_type": "stream",
     "text": [
      "                                               Title  Price        Date\n",
      "0  I Got Your Back Stick Figure Graphic Friendshi...  17.99  2023-04-24\n",
      "1  I Got Your Back Stick Figure Graphic Friendshi...  17.99  2023-04-24\n"
     ]
    }
   ],
   "source": [
    "import pandas as pd\n",
    "\n",
    "df = pd.read_csv(r'C:\\Users\\nandi\\AmazonWebScraperDataset.csv')\n",
    "\n",
    "print(df)"
   ]
  },
  {
   "cell_type": "code",
   "execution_count": 42,
   "id": "72ea2792",
   "metadata": {},
   "outputs": [],
   "source": [
    "# sending an email when a price hits below a certain level \n",
    "\n",
    "def send_mail():\n",
    "    HOST = \"smtp.gmail.com\"\n",
    "    server = smtplib.SMTP_SSL('smtp.gmail.com',135)\n",
    "    server.ehlo()\n",
    "    server.starttls()\n",
    "    server.ehlo()\n",
    "    server.login('nanditashangari03@gmail.com','xxx')\n",
    "    \n",
    "    subject = \"The Shirt you want is below $14! Now is your chance to buy!\"\n",
    "    body = \"Nandita, Now is your chance to pick up the shirt of your dreams. Don't mess it up! Link here: https://www.amazon.com/dp/B076FSSXFJ/ref=sspa_dk_detail_2?pd_rd_i=B076FSSXFJ&pd_rd_w=qHgjt&content-id=amzn1.sym.eb7c1ac5-7c51-4df5-ba34-ca810f1f119a&pf_rd_p=eb7c1ac5-7c51-4df5-ba34-ca810f1f119a&pf_rd_r=SPVAENV5MSXQ117BNYFK&pd_rd_wg=Cmuxu&pd_rd_r=9190bb4a-b09d-4e7a-b6e0-3f81e2d2eea9&s=apparel&sp_csd=d2lkZ2V0TmFtZT1zcF9kZXRhaWw&spLa=ZW5jcnlwdGVkUXVhbGlmaWVyPUExMVQ5U1E1VjdRNTQzJmVuY3J5cHRlZElkPUEwNDk4NjE2M0NFN1pCQlo1TVUwUiZlbmNyeXB0ZWRBZElkPUEwMDM5MzIzMkRZR0NDUklWV0VRNCZ3aWRnZXROYW1lPXNwX2RldGFpbCZhY3Rpb249Y2xpY2tSZWRpcmVjdCZkb05vdExvZ0NsaWNrPXRydWU&th=1&psc=1\"\n",
    "   \n",
    "    msg = f\"Subject: {subject}\\n\\n{body}\"\n",
    "    \n",
    "    server.sendmail(\n",
    "        'nanditashangari03@gmail.com',\n",
    "        msg\n",
    "     \n",
    "    )"
   ]
  },
  {
   "cell_type": "code",
   "execution_count": 43,
   "id": "25b6a13e",
   "metadata": {},
   "outputs": [],
   "source": [
    "  if (price < 14):\n",
    "    send_mail()"
   ]
  },
  {
   "cell_type": "code",
   "execution_count": null,
   "id": "4ba6d9fe",
   "metadata": {},
   "outputs": [],
   "source": []
  }
 ],
 "metadata": {
  "kernelspec": {
   "display_name": "Python 3 (ipykernel)",
   "language": "python",
   "name": "python3"
  },
  "language_info": {
   "codemirror_mode": {
    "name": "ipython",
    "version": 3
   },
   "file_extension": ".py",
   "mimetype": "text/x-python",
   "name": "python",
   "nbconvert_exporter": "python",
   "pygments_lexer": "ipython3",
   "version": "3.9.7"
  }
 },
 "nbformat": 4,
 "nbformat_minor": 5
}
